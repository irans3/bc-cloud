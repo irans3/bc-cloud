{
 "cells": [
  {
   "cell_type": "code",
   "execution_count": 49,
   "metadata": {
    "scrolled": true
   },
   "outputs": [
    {
     "name": "stdout",
     "output_type": "stream",
     "text": [
      "Solving environment: ...working... done\n",
      "\n",
      "## Package Plan ##\n",
      "\n",
      "  environment location: /home/is3/miniconda3\n",
      "\n",
      "  added / updated specs: \n",
      "    - pandas\n",
      "\n",
      "\n",
      "The following packages will be downloaded:\n",
      "\n",
      "    package                    |            build\n",
      "    ---------------------------|-----------------\n",
      "    pytz-2018.4                |           py36_0         212 KB\n",
      "    pandas-0.23.1              |   py36h637b7d7_0        11.9 MB\n",
      "    ------------------------------------------------------------\n",
      "                                           Total:        12.1 MB\n",
      "\n",
      "The following NEW packages will be INSTALLED:\n",
      "\n",
      "    pandas: 0.23.1-py36h637b7d7_0\n",
      "    pytz:   2018.4-py36_0        \n",
      "\n",
      "Proceed ([y]/n)? \n",
      "\n",
      "Downloading and Extracting Packages\n",
      "Preparing transaction: ...working... done\n",
      "Verifying transaction: ...working... done\n",
      "Executing transaction: ...working... done\n"
     ]
    },
    {
     "name": "stderr",
     "output_type": "stream",
     "text": [
      "\r",
      "pytz-2018.4          |  212 KB |            |   0% \r",
      "pytz-2018.4          |  212 KB | 5          |   6% \r",
      "pytz-2018.4          |  212 KB | #####      |  51% \r",
      "pytz-2018.4          |  212 KB | ########8  |  88% \r",
      "pytz-2018.4          |  212 KB | ########## | 100% \n",
      "\r",
      "pandas-0.23.1        | 11.9 MB |            |   0% \r",
      "pandas-0.23.1        | 11.9 MB |            |   1% \r",
      "pandas-0.23.1        | 11.9 MB | 1          |   1% \r",
      "pandas-0.23.1        | 11.9 MB | 2          |   3% \r",
      "pandas-0.23.1        | 11.9 MB | 3          |   4% \r",
      "pandas-0.23.1        | 11.9 MB | 5          |   5% \r",
      "pandas-0.23.1        | 11.9 MB | 6          |   6% \r",
      "pandas-0.23.1        | 11.9 MB | 7          |   7% \r",
      "pandas-0.23.1        | 11.9 MB | 8          |   8% \r",
      "pandas-0.23.1        | 11.9 MB | 9          |   9% \r",
      "pandas-0.23.1        | 11.9 MB | #          |  10% \r",
      "pandas-0.23.1        | 11.9 MB | #          |  11% \r",
      "pandas-0.23.1        | 11.9 MB | #2         |  12% \r",
      "pandas-0.23.1        | 11.9 MB | #3         |  13% \r",
      "pandas-0.23.1        | 11.9 MB | #4         |  14% \r",
      "pandas-0.23.1        | 11.9 MB | #5         |  16% \r",
      "pandas-0.23.1        | 11.9 MB | #7         |  17% \r",
      "pandas-0.23.1        | 11.9 MB | #8         |  18% \r",
      "pandas-0.23.1        | 11.9 MB | #9         |  19% \r",
      "pandas-0.23.1        | 11.9 MB | ##         |  21% \r",
      "pandas-0.23.1        | 11.9 MB | ##1        |  22% \r",
      "pandas-0.23.1        | 11.9 MB | ##3        |  23% \r",
      "pandas-0.23.1        | 11.9 MB | ##4        |  25% \r",
      "pandas-0.23.1        | 11.9 MB | ##6        |  26% \r",
      "pandas-0.23.1        | 11.9 MB | ##7        |  28% \r",
      "pandas-0.23.1        | 11.9 MB | ##9        |  29% \r",
      "pandas-0.23.1        | 11.9 MB | ###1       |  32% \r",
      "pandas-0.23.1        | 11.9 MB | ###3       |  34% \r",
      "pandas-0.23.1        | 11.9 MB | ###5       |  36% \r",
      "pandas-0.23.1        | 11.9 MB | ###8       |  38% \r",
      "pandas-0.23.1        | 11.9 MB | ###9       |  40% \r",
      "pandas-0.23.1        | 11.9 MB | ####2      |  42% \r",
      "pandas-0.23.1        | 11.9 MB | ####4      |  45% \r",
      "pandas-0.23.1        | 11.9 MB | ####7      |  47% \r",
      "pandas-0.23.1        | 11.9 MB | ####9      |  49% \r",
      "pandas-0.23.1        | 11.9 MB | #####1     |  51% \r",
      "pandas-0.23.1        | 11.9 MB | #####3     |  54% \r",
      "pandas-0.23.1        | 11.9 MB | #####6     |  56% \r",
      "pandas-0.23.1        | 11.9 MB | #####8     |  59% \r",
      "pandas-0.23.1        | 11.9 MB | ######     |  61% \r",
      "pandas-0.23.1        | 11.9 MB | ######2    |  63% \r",
      "pandas-0.23.1        | 11.9 MB | ######4    |  65% \r",
      "pandas-0.23.1        | 11.9 MB | ######6    |  66% \r",
      "pandas-0.23.1        | 11.9 MB | ######7    |  68% \r",
      "pandas-0.23.1        | 11.9 MB | ######9    |  69% \r",
      "pandas-0.23.1        | 11.9 MB | #######    |  71% \r",
      "pandas-0.23.1        | 11.9 MB | #######2   |  72% \r",
      "pandas-0.23.1        | 11.9 MB | #######3   |  74% \r",
      "pandas-0.23.1        | 11.9 MB | #######4   |  75% \r",
      "pandas-0.23.1        | 11.9 MB | #######6   |  76% \r",
      "pandas-0.23.1        | 11.9 MB | #######7   |  77% \r",
      "pandas-0.23.1        | 11.9 MB | #######7   |  78% \r",
      "pandas-0.23.1        | 11.9 MB | #######8   |  78% \r",
      "pandas-0.23.1        | 11.9 MB | #######8   |  79% \r",
      "pandas-0.23.1        | 11.9 MB | #######9   |  79% \r",
      "pandas-0.23.1        | 11.9 MB | #######9   |  79% \r",
      "pandas-0.23.1        | 11.9 MB | #######9   |  80% \r",
      "pandas-0.23.1        | 11.9 MB | ########   |  80% \r",
      "pandas-0.23.1        | 11.9 MB | ########   |  81% \r",
      "pandas-0.23.1        | 11.9 MB | ########1  |  81% \r",
      "pandas-0.23.1        | 11.9 MB | ########1  |  82% \r",
      "pandas-0.23.1        | 11.9 MB | ########1  |  82% \r",
      "pandas-0.23.1        | 11.9 MB | ########2  |  82% \r",
      "pandas-0.23.1        | 11.9 MB | ########2  |  83% \r",
      "pandas-0.23.1        | 11.9 MB | ########3  |  83% \r",
      "pandas-0.23.1        | 11.9 MB | ########3  |  84% \r",
      "pandas-0.23.1        | 11.9 MB | ########4  |  84% \r",
      "pandas-0.23.1        | 11.9 MB | ########4  |  85% \r",
      "pandas-0.23.1        | 11.9 MB | ########5  |  85% \r",
      "pandas-0.23.1        | 11.9 MB | ########5  |  86% \r",
      "pandas-0.23.1        | 11.9 MB | ########6  |  86% \r",
      "pandas-0.23.1        | 11.9 MB | ########6  |  87% \r",
      "pandas-0.23.1        | 11.9 MB | ########7  |  87% \r",
      "pandas-0.23.1        | 11.9 MB | ########7  |  88% \r",
      "pandas-0.23.1        | 11.9 MB | ########8  |  88% \r",
      "pandas-0.23.1        | 11.9 MB | ########8  |  89% \r",
      "pandas-0.23.1        | 11.9 MB | ########9  |  90% \r",
      "pandas-0.23.1        | 11.9 MB | #########  |  90% \r",
      "pandas-0.23.1        | 11.9 MB | #########1 |  91% \r",
      "pandas-0.23.1        | 11.9 MB | #########1 |  92% \r",
      "pandas-0.23.1        | 11.9 MB | #########2 |  93% \r",
      "pandas-0.23.1        | 11.9 MB | #########3 |  93% \r",
      "pandas-0.23.1        | 11.9 MB | #########4 |  94% \r",
      "pandas-0.23.1        | 11.9 MB | #########4 |  95% \r",
      "pandas-0.23.1        | 11.9 MB | #########5 |  96% \r",
      "pandas-0.23.1        | 11.9 MB | #########6 |  96% \r",
      "pandas-0.23.1        | 11.9 MB | #########7 |  97% \r",
      "pandas-0.23.1        | 11.9 MB | #########7 |  98% \r",
      "pandas-0.23.1        | 11.9 MB | #########8 |  99% \r",
      "pandas-0.23.1        | 11.9 MB | #########9 |  99% \r",
      "pandas-0.23.1        | 11.9 MB | ########## | 100% \n"
     ]
    }
   ],
   "source": [
    "%%sh\n",
    "conda install -y pandas beautifulsoup4"
   ]
  },
  {
   "cell_type": "code",
   "execution_count": 4,
   "metadata": {},
   "outputs": [],
   "source": [
    "from bs4 import BeautifulSoup\n",
    "import requests\n",
    "import json\n",
    "import pandas as pd\n",
    "\n",
    "page_link ='https://g.alicdn.com/aliyun/ecs-price-info/2.0.0/price/download/instancePrice.json?spm=0.6883001.instance.1.6250b5sRb5sRx4&file=instancePrice.json'\n",
    "# fetch the content from url\n",
    "page_response = requests.get(page_link, timeout=5)\n",
    "# parse html\n",
    "page_content = BeautifulSoup(page_response.content, \"html5lib\")\n",
    "\n",
    "j = json.loads(soup.text)\n",
    "j.keys()\n",
    "# extract all html elements where price is stored\n",
    "#prices = page_content.find_all(class_='main_price')\n",
    "# prices has a form:\n",
    "#[<div class=\"main_price\">Price: $66.68</div>,\n",
    "# <div class=\"main_price\">Price: $56.68</div>]\n",
    "\n",
    "# you can also access the main_price class by specifying the tag of the class\n",
    "#prices = page_content.find_all('div', attrs={'class':'main_price'})"
   ]
  },
  {
   "cell_type": "code",
   "execution_count": 127,
   "metadata": {},
   "outputs": [
    {
     "name": "stdout",
     "output_type": "stream",
     "text": [
      "d['RegionId'] = '\n",
      "d['InstanceType'] = '\n",
      "d['NetworkType'] = '\n",
      "d['OSType'] = '\n",
      "d['IoOptimized'] = '\n"
     ]
    }
   ],
   "source": [
    "key_structure = j['description'].split(\"'\")[1]\n",
    "for i in key_structure.split('::'):\n",
    "    print(\"d['{}'] = '\".format(i))"
   ]
  },
  {
   "cell_type": "code",
   "execution_count": 145,
   "metadata": {},
   "outputs": [],
   "source": [
    "l = []"
   ]
  },
  {
   "cell_type": "code",
   "execution_count": 100,
   "metadata": {},
   "outputs": [],
   "source": [
    "pricing_info = j['pricingInfo']"
   ]
  },
  {
   "cell_type": "code",
   "execution_count": 146,
   "metadata": {},
   "outputs": [],
   "source": [
    "for k in pricing_info.keys(): #= 'us-east-1::ecs.n4.2xlarge::vpc::linux::optimized'\n",
    "    d = dict()\n",
    "    splits = k.split('::')\n",
    "    d['RegionId'] = splits[0]\n",
    "    d['InstanceType'] = splits[1]\n",
    "    d['NetworkType'] = splits[2]\n",
    "    d['OSType'] = splits[3]\n",
    "    d['IoOptimized'] = splits[4]\n",
    "    v = pricing_info[k]\n",
    "\n",
    "    for key in v.keys():\n",
    "        for i in v[key]:\n",
    "            if i['period'] is not '1':\n",
    "                d[key + '-' + i['period']] = i['price']\n",
    "            else:\n",
    "                d[key[:-1]] = i['price']\n",
    "                \n",
    "    l.append(d)"
   ]
  },
  {
   "cell_type": "code",
   "execution_count": 149,
   "metadata": {},
   "outputs": [
    {
     "data": {
      "text/plain": [
       "(5372, 13)"
      ]
     },
     "execution_count": 149,
     "metadata": {},
     "output_type": "execute_result"
    }
   ],
   "source": [
    "df = pd.DataFrame(l)\n",
    "df.shape"
   ]
  },
  {
   "cell_type": "code",
   "execution_count": 150,
   "metadata": {},
   "outputs": [
    {
     "data": {
      "text/html": [
       "<div>\n",
       "<style scoped>\n",
       "    .dataframe tbody tr th:only-of-type {\n",
       "        vertical-align: middle;\n",
       "    }\n",
       "\n",
       "    .dataframe tbody tr th {\n",
       "        vertical-align: top;\n",
       "    }\n",
       "\n",
       "    .dataframe thead th {\n",
       "        text-align: right;\n",
       "    }\n",
       "</style>\n",
       "<table border=\"1\" class=\"dataframe\">\n",
       "  <thead>\n",
       "    <tr style=\"text-align: right;\">\n",
       "      <th></th>\n",
       "      <th>InstanceType</th>\n",
       "      <th>IoOptimized</th>\n",
       "      <th>NetworkType</th>\n",
       "      <th>OSType</th>\n",
       "      <th>RegionId</th>\n",
       "      <th>hour</th>\n",
       "      <th>month</th>\n",
       "      <th>week</th>\n",
       "      <th>year</th>\n",
       "      <th>years-2</th>\n",
       "      <th>years-3</th>\n",
       "      <th>years-4</th>\n",
       "      <th>years-5</th>\n",
       "    </tr>\n",
       "  </thead>\n",
       "  <tbody>\n",
       "    <tr>\n",
       "      <th>5367</th>\n",
       "      <td>ecs.t5-c1m4.2xlarge</td>\n",
       "      <td>optimized</td>\n",
       "      <td>vpc</td>\n",
       "      <td>linux</td>\n",
       "      <td>cn-hangzhou</td>\n",
       "      <td>2.375</td>\n",
       "      <td>684.0</td>\n",
       "      <td>201.6</td>\n",
       "      <td>6480.0</td>\n",
       "      <td>10368.0</td>\n",
       "      <td>11664.0</td>\n",
       "      <td>12441.6</td>\n",
       "      <td>12960.0</td>\n",
       "    </tr>\n",
       "    <tr>\n",
       "      <th>5368</th>\n",
       "      <td>ecs.d1.8xlarge</td>\n",
       "      <td>optimized</td>\n",
       "      <td>vpc</td>\n",
       "      <td>linux</td>\n",
       "      <td>cn-hangzhou</td>\n",
       "      <td>24.187</td>\n",
       "      <td>6965.4</td>\n",
       "      <td>2052.96</td>\n",
       "      <td>65988.0</td>\n",
       "      <td>105580.8</td>\n",
       "      <td>118778.4</td>\n",
       "      <td>126696.96</td>\n",
       "      <td>131976.0</td>\n",
       "    </tr>\n",
       "    <tr>\n",
       "      <th>5369</th>\n",
       "      <td>ecs.hfg5.xlarge</td>\n",
       "      <td>optimized</td>\n",
       "      <td>vpc</td>\n",
       "      <td>windows</td>\n",
       "      <td>cn-hangzhou</td>\n",
       "      <td>2.385</td>\n",
       "      <td>687.8</td>\n",
       "      <td>202.72</td>\n",
       "      <td>6516.0</td>\n",
       "      <td>10425.6</td>\n",
       "      <td>11728.8</td>\n",
       "      <td>12510.72</td>\n",
       "      <td>13032.0</td>\n",
       "    </tr>\n",
       "    <tr>\n",
       "      <th>5370</th>\n",
       "      <td>ecs.gn5-c8g1.4xlarge</td>\n",
       "      <td>optimized</td>\n",
       "      <td>vpc</td>\n",
       "      <td>linux</td>\n",
       "      <td>cn-shanghai</td>\n",
       "      <td>34.409</td>\n",
       "      <td>9908.5</td>\n",
       "      <td>2920.4</td>\n",
       "      <td>93870.0</td>\n",
       "      <td>150192.0</td>\n",
       "      <td>168966.0</td>\n",
       "      <td>180230.4</td>\n",
       "      <td>187740.0</td>\n",
       "    </tr>\n",
       "    <tr>\n",
       "      <th>5371</th>\n",
       "      <td>ecs.se1ne.6xlarge</td>\n",
       "      <td>optimized</td>\n",
       "      <td>vpc</td>\n",
       "      <td>linux</td>\n",
       "      <td>us-west-1</td>\n",
       "      <td>12.876</td>\n",
       "      <td>5627.84</td>\n",
       "      <td>1658.73</td>\n",
       "      <td>53316.36</td>\n",
       "      <td>85306.18</td>\n",
       "      <td>95969.45</td>\n",
       "      <td>102367.41</td>\n",
       "      <td>106632.72</td>\n",
       "    </tr>\n",
       "  </tbody>\n",
       "</table>\n",
       "</div>"
      ],
      "text/plain": [
       "              InstanceType IoOptimized NetworkType   OSType     RegionId  \\\n",
       "5367   ecs.t5-c1m4.2xlarge   optimized         vpc    linux  cn-hangzhou   \n",
       "5368        ecs.d1.8xlarge   optimized         vpc    linux  cn-hangzhou   \n",
       "5369       ecs.hfg5.xlarge   optimized         vpc  windows  cn-hangzhou   \n",
       "5370  ecs.gn5-c8g1.4xlarge   optimized         vpc    linux  cn-shanghai   \n",
       "5371     ecs.se1ne.6xlarge   optimized         vpc    linux    us-west-1   \n",
       "\n",
       "        hour    month     week      year   years-2   years-3    years-4  \\\n",
       "5367   2.375    684.0    201.6    6480.0   10368.0   11664.0    12441.6   \n",
       "5368  24.187   6965.4  2052.96   65988.0  105580.8  118778.4  126696.96   \n",
       "5369   2.385    687.8   202.72    6516.0   10425.6   11728.8   12510.72   \n",
       "5370  34.409   9908.5   2920.4   93870.0  150192.0  168966.0   180230.4   \n",
       "5371  12.876  5627.84  1658.73  53316.36  85306.18  95969.45  102367.41   \n",
       "\n",
       "        years-5  \n",
       "5367    12960.0  \n",
       "5368   131976.0  \n",
       "5369    13032.0  \n",
       "5370   187740.0  \n",
       "5371  106632.72  "
      ]
     },
     "execution_count": 150,
     "metadata": {},
     "output_type": "execute_result"
    }
   ],
   "source": [
    "df.tail()"
   ]
  },
  {
   "cell_type": "code",
   "execution_count": 155,
   "metadata": {},
   "outputs": [
    {
     "data": {
      "text/plain": [
       "{'ap-northeast-1',\n",
       " 'ap-south-1',\n",
       " 'ap-southeast-1',\n",
       " 'ap-southeast-2',\n",
       " 'ap-southeast-3',\n",
       " 'ap-southeast-5',\n",
       " 'cn-beijing',\n",
       " 'cn-hangzhou',\n",
       " 'cn-hongkong',\n",
       " 'cn-huhehaote',\n",
       " 'cn-qingdao',\n",
       " 'cn-shanghai',\n",
       " 'cn-shenzhen',\n",
       " 'cn-zhangjiakou',\n",
       " 'eu-central-1',\n",
       " 'me-east-1',\n",
       " 'us-east-1',\n",
       " 'us-west-1'}"
      ]
     },
     "execution_count": 155,
     "metadata": {},
     "output_type": "execute_result"
    }
   ],
   "source": [
    "set(df.iloc[:,4].tolist())`"
   ]
  },
  {
   "cell_type": "code",
   "execution_count": 156,
   "metadata": {},
   "outputs": [
    {
     "data": {
      "text/plain": [
       "'/home/is3'"
      ]
     },
     "execution_count": 156,
     "metadata": {},
     "output_type": "execute_result"
    }
   ],
   "source": [
    "import os\n",
    "os.getcwd()"
   ]
  },
  {
   "cell_type": "code",
   "execution_count": 157,
   "metadata": {},
   "outputs": [],
   "source": [
    "os.mkdir('data')"
   ]
  },
  {
   "cell_type": "code",
   "execution_count": 158,
   "metadata": {},
   "outputs": [],
   "source": [
    "df.to_csv('data/aliyun.csv')"
   ]
  }
 ],
 "metadata": {
  "kernelspec": {
   "display_name": "Python 3",
   "language": "python",
   "name": "python3"
  },
  "language_info": {
   "codemirror_mode": {
    "name": "ipython",
    "version": 3
   },
   "file_extension": ".py",
   "mimetype": "text/x-python",
   "name": "python",
   "nbconvert_exporter": "python",
   "pygments_lexer": "ipython3",
   "version": "3.6.5"
  }
 },
 "nbformat": 4,
 "nbformat_minor": 2
}
